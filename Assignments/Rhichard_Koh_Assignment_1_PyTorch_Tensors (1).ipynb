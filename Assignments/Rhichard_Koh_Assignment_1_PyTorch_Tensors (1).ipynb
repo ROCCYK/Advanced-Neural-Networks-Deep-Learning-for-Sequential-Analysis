{
  "cells": [
    {
      "cell_type": "markdown",
      "source": [
        "#Advanced Neural Networks: Deep Learning for Sequential Analysis - Assignment 1: Tensors\n",
        "\n",
        "#Rhichard Koh"
      ],
      "metadata": {
        "id": "ubJSNoDThlSK"
      },
      "id": "ubJSNoDThlSK"
    },
    {
      "cell_type": "markdown",
      "id": "379a246b",
      "metadata": {
        "id": "379a246b"
      },
      "source": [
        "# Assignment 1: PyTorch Tensors"
      ]
    },
    {
      "cell_type": "markdown",
      "id": "5328f0ea",
      "metadata": {
        "id": "5328f0ea"
      },
      "source": [
        "\n",
        "### Instructions:\n",
        "- This assignment is worth **15%** of your final grade.\n",
        "- Complete all exercises in this notebook.\n",
        "- Submit your completed notebook by the due date.\n",
        "- Ensure you use proper comments and explanations in your code.\n",
        "\n",
        "### Learning Objectives:\n",
        "- Understand and apply tensor operations in PyTorch.\n",
        "- Perform data manipulation and transformation using tensors.\n",
        "- Implement advanced tensor operations like broadcasting and automatic differentiation.\n"
      ]
    },
    {
      "cell_type": "markdown",
      "id": "e6ac5f9e",
      "metadata": {
        "id": "e6ac5f9e"
      },
      "source": [
        "\n",
        "### Question 1: Tensor Creation (10 points)\n",
        "1. Create the following tensors:\n",
        "   - A 3x3 tensor filled with random values uniformly distributed between 0 and 1.\n",
        "   - A 4x4 tensor filled with zeros, then modify its diagonal elements to have the value 1.\n",
        "   - A 1-dimensional tensor with values ranging from -5 to 5 with a step size of 0.5.\n",
        "2. Print each tensor and its shape.\n",
        "\n",
        "**Note:** Use appropriate PyTorch functions to create these tensors.\n"
      ]
    },
    {
      "cell_type": "code",
      "source": [
        "import torch\n",
        "\n",
        "# 1. A 3x3 tensor filled with random values uniformly distributed between 0 and 1.\n",
        "tensor_random = torch.rand(3, 3) # Returns a tensor filled with random numbers from a uniform distribution on the interval [0,1)"
      ],
      "metadata": {
        "id": "yojUj-Zliakp"
      },
      "id": "yojUj-Zliakp",
      "execution_count": 1,
      "outputs": []
    },
    {
      "cell_type": "code",
      "source": [
        "# 2. A 4x4 tensor filled with zeros, then modify its diagonal elements to have the value 1.\n",
        "tensor_identity = torch.zeros(4, 4) # Returns a tensor filled with the scalar value 0, with the shape defined by the variable argument size (4x4).\n",
        "tensor_identity = tensor_identity.fill_diagonal_(1) # Fills the diagonal with a scalar value of 1."
      ],
      "metadata": {
        "id": "-HGoSQx4icCv"
      },
      "id": "-HGoSQx4icCv",
      "execution_count": 2,
      "outputs": []
    },
    {
      "cell_type": "code",
      "source": [
        "# 3. A 1-dimensional tensor with values ranging from -5 to 5 with a step size of 0.5.\n",
        "tensor_range = torch.arange(-5, 5, 0.5) # Returns a 1-D tensor of size ⌈ end − start / step ⌉ with values from the interval [start, end) taken with common difference step beginning from start."
      ],
      "metadata": {
        "id": "NNXGy2QDidLK"
      },
      "id": "NNXGy2QDidLK",
      "execution_count": 3,
      "outputs": []
    },
    {
      "cell_type": "markdown",
      "source": [
        "## Print each tensor and its shape."
      ],
      "metadata": {
        "id": "MI17hqMwdt9u"
      },
      "id": "MI17hqMwdt9u"
    },
    {
      "cell_type": "code",
      "source": [
        "print(\"Random Tensor:\")\n",
        "print(tensor_random)\n",
        "print(\"Shape:\", tensor_random.shape)"
      ],
      "metadata": {
        "colab": {
          "base_uri": "https://localhost:8080/"
        },
        "id": "Cn9HOpqscg39",
        "outputId": "ff8fb1cd-9044-4fbc-dc58-be0bd8caa417"
      },
      "id": "Cn9HOpqscg39",
      "execution_count": 4,
      "outputs": [
        {
          "output_type": "stream",
          "name": "stdout",
          "text": [
            "Random Tensor:\n",
            "tensor([[0.4437, 0.4415, 0.1353],\n",
            "        [0.3970, 0.9612, 0.3035],\n",
            "        [0.1089, 0.5916, 0.6068]])\n",
            "Shape: torch.Size([3, 3])\n"
          ]
        }
      ]
    },
    {
      "cell_type": "code",
      "source": [
        "print(\"Identity Tensor:\")\n",
        "print(tensor_identity)\n",
        "print(\"Shape:\", tensor_identity.shape)"
      ],
      "metadata": {
        "colab": {
          "base_uri": "https://localhost:8080/"
        },
        "id": "Z4LUhKQDcmtj",
        "outputId": "643da43f-0aa5-4c85-fffc-36638dfbb2ea"
      },
      "id": "Z4LUhKQDcmtj",
      "execution_count": 5,
      "outputs": [
        {
          "output_type": "stream",
          "name": "stdout",
          "text": [
            "Identity Tensor:\n",
            "tensor([[1., 0., 0., 0.],\n",
            "        [0., 1., 0., 0.],\n",
            "        [0., 0., 1., 0.],\n",
            "        [0., 0., 0., 1.]])\n",
            "Shape: torch.Size([4, 4])\n"
          ]
        }
      ]
    },
    {
      "cell_type": "code",
      "source": [
        "print(\"Range Tensor:\")\n",
        "print(tensor_range)\n",
        "print(\"Shape:\", tensor_range.shape)"
      ],
      "metadata": {
        "colab": {
          "base_uri": "https://localhost:8080/"
        },
        "id": "hcp4f99XcpvE",
        "outputId": "8648522c-e9cc-4668-e73e-a41c32f6551c"
      },
      "id": "hcp4f99XcpvE",
      "execution_count": 6,
      "outputs": [
        {
          "output_type": "stream",
          "name": "stdout",
          "text": [
            "Range Tensor:\n",
            "tensor([-5.0000, -4.5000, -4.0000, -3.5000, -3.0000, -2.5000, -2.0000, -1.5000,\n",
            "        -1.0000, -0.5000,  0.0000,  0.5000,  1.0000,  1.5000,  2.0000,  2.5000,\n",
            "         3.0000,  3.5000,  4.0000,  4.5000])\n",
            "Shape: torch.Size([20])\n"
          ]
        }
      ]
    },
    {
      "cell_type": "markdown",
      "id": "4fb479a8",
      "metadata": {
        "id": "4fb479a8"
      },
      "source": [
        "\n",
        "### Question 2: Basic Tensor Operations (20 points)\n",
        "1. Create two 2x3 tensors with random integers between 1 and 10.\n",
        "2. Perform the following operations on these tensors:\n",
        "   - Element-wise addition\n",
        "   - Element-wise multiplication\n",
        "   - Matrix multiplication (ensure tensors are of compatible shape)\n",
        "   - Calculate the mean and standard deviation of the resulting tensor from matrix multiplication.\n",
        "3. Print the results of each operation with appropriate labels.\n",
        "\n",
        "**Hint:** Use `torch.matmul` for matrix multiplication.\n"
      ]
    },
    {
      "cell_type": "code",
      "execution_count": 7,
      "id": "610b8e1a",
      "metadata": {
        "id": "610b8e1a"
      },
      "outputs": [],
      "source": [
        "first_tensor = torch.randint(1, 11, (2, 3)) # Returns a tensor filled with random numbers from a uniform distribution on the interval [1,10)\n",
        "second_tensor = torch.randint(1, 11, (2, 3)) # Returns a tensor filled with random numbers from a uniform distribution on the interval [1,10)"
      ]
    },
    {
      "cell_type": "code",
      "source": [
        "print(\"1st Tensor:\")\n",
        "print(first_tensor)\n",
        "print(\"Shape:\", first_tensor.shape)"
      ],
      "metadata": {
        "colab": {
          "base_uri": "https://localhost:8080/"
        },
        "id": "cswkErJXfkAn",
        "outputId": "2079a486-5ae6-4d39-c254-4b5824a73977"
      },
      "id": "cswkErJXfkAn",
      "execution_count": 8,
      "outputs": [
        {
          "output_type": "stream",
          "name": "stdout",
          "text": [
            "1st Tensor:\n",
            "tensor([[ 8, 10, 10],\n",
            "        [ 7,  3,  1]])\n",
            "Shape: torch.Size([2, 3])\n"
          ]
        }
      ]
    },
    {
      "cell_type": "code",
      "source": [
        "print(\"2nd Tensor:\")\n",
        "print(second_tensor)\n",
        "print(\"Shape:\", second_tensor.shape)"
      ],
      "metadata": {
        "colab": {
          "base_uri": "https://localhost:8080/"
        },
        "id": "NZie3i-xflZL",
        "outputId": "d5af1164-28cd-4187-df7a-993d57145e6a"
      },
      "id": "NZie3i-xflZL",
      "execution_count": 9,
      "outputs": [
        {
          "output_type": "stream",
          "name": "stdout",
          "text": [
            "2nd Tensor:\n",
            "tensor([[4, 4, 9],\n",
            "        [1, 7, 3]])\n",
            "Shape: torch.Size([2, 3])\n"
          ]
        }
      ]
    },
    {
      "cell_type": "markdown",
      "source": [
        "## Element Wise Addition"
      ],
      "metadata": {
        "id": "ljT8ly0JgbZg"
      },
      "id": "ljT8ly0JgbZg"
    },
    {
      "cell_type": "code",
      "source": [
        "element_wise_addition = first_tensor + second_tensor # adds the two tensors element wise.\n",
        "print(\"Element-wise Addition:\")\n",
        "print(element_wise_addition)\n",
        "print(\"Shape:\", element_wise_addition.shape)"
      ],
      "metadata": {
        "colab": {
          "base_uri": "https://localhost:8080/"
        },
        "id": "puRsZJyVge8f",
        "outputId": "b71b09ff-bc8b-495b-858f-b06d2f2cfd0b"
      },
      "id": "puRsZJyVge8f",
      "execution_count": 10,
      "outputs": [
        {
          "output_type": "stream",
          "name": "stdout",
          "text": [
            "Element-wise Addition:\n",
            "tensor([[12, 14, 19],\n",
            "        [ 8, 10,  4]])\n",
            "Shape: torch.Size([2, 3])\n"
          ]
        }
      ]
    },
    {
      "cell_type": "markdown",
      "source": [
        "## Element Wise Multiplication"
      ],
      "metadata": {
        "id": "n9HofEc5hRt4"
      },
      "id": "n9HofEc5hRt4"
    },
    {
      "cell_type": "code",
      "source": [
        "element_wise_multiplication = first_tensor * second_tensor # multiplies the two tensors element wise.\n",
        "print(\"Element-wise Multiplication:\")\n",
        "print(element_wise_multiplication)\n",
        "print(\"Shape:\", element_wise_multiplication.shape)"
      ],
      "metadata": {
        "colab": {
          "base_uri": "https://localhost:8080/"
        },
        "id": "o8sevbEOhVFb",
        "outputId": "0fb53fcd-dab2-4669-b399-074689dfdc47"
      },
      "id": "o8sevbEOhVFb",
      "execution_count": 11,
      "outputs": [
        {
          "output_type": "stream",
          "name": "stdout",
          "text": [
            "Element-wise Multiplication:\n",
            "tensor([[32, 40, 90],\n",
            "        [ 7, 21,  3]])\n",
            "Shape: torch.Size([2, 3])\n"
          ]
        }
      ]
    },
    {
      "cell_type": "markdown",
      "source": [
        "## Matrix Multiplication"
      ],
      "metadata": {
        "id": "gK9kKJuShmnC"
      },
      "id": "gK9kKJuShmnC"
    },
    {
      "cell_type": "code",
      "source": [
        "print(\"Shape:\", first_tensor.shape) # Checking if we need to Transpose for Matrix Multiplication.\n",
        "print(\"Shape:\", second_tensor.shape) # Checking if we need to Transpose for Matrix Multiplication.\n",
        "print(\"--------------------------------------------------------------------------------------\")\n",
        "matrix_multiplication = torch.matmul(first_tensor, second_tensor.T) # Returns the matrix product of two tensors. We also needed to transpose one of the tensors.\n",
        "print(\"Transposed Shape: \", second_tensor.T.shape)\n",
        "print(\"--------------------------------------------------------------------------------------\")\n",
        "print(\"Matrix Multiplication:\")\n",
        "print(matrix_multiplication)\n",
        "print(\"Shape:\", matrix_multiplication.shape)"
      ],
      "metadata": {
        "colab": {
          "base_uri": "https://localhost:8080/"
        },
        "id": "hN13gmfShp_q",
        "outputId": "12ede3cd-4eb3-4142-9212-7197ebbd241d"
      },
      "id": "hN13gmfShp_q",
      "execution_count": 12,
      "outputs": [
        {
          "output_type": "stream",
          "name": "stdout",
          "text": [
            "Shape: torch.Size([2, 3])\n",
            "Shape: torch.Size([2, 3])\n",
            "--------------------------------------------------------------------------------------\n",
            "Transposed Shape:  torch.Size([3, 2])\n",
            "--------------------------------------------------------------------------------------\n",
            "Matrix Multiplication:\n",
            "tensor([[162, 108],\n",
            "        [ 49,  31]])\n",
            "Shape: torch.Size([2, 2])\n"
          ]
        }
      ]
    },
    {
      "cell_type": "markdown",
      "source": [
        "## Calculate the mean and standard deviation of the resulting tensor from matrix multiplication."
      ],
      "metadata": {
        "id": "Zq8NdMgEjk7c"
      },
      "id": "Zq8NdMgEjk7c"
    },
    {
      "cell_type": "code",
      "source": [
        "mean = matrix_multiplication.float().mean() # Calculates the mean of the matrix.\n",
        "std = matrix_multiplication.float().std() # Calculates the standard deviation of the matrix.\n",
        "print(\"Mean:\", mean)\n",
        "print(\"Standard Deviation:\", std)"
      ],
      "metadata": {
        "colab": {
          "base_uri": "https://localhost:8080/"
        },
        "id": "4xUlffXoi-Sq",
        "outputId": "64784cc0-a36f-42c1-8632-555609bdc571"
      },
      "id": "4xUlffXoi-Sq",
      "execution_count": 13,
      "outputs": [
        {
          "output_type": "stream",
          "name": "stdout",
          "text": [
            "Mean: tensor(87.5000)\n",
            "Standard Deviation: tensor(59.5679)\n"
          ]
        }
      ]
    },
    {
      "cell_type": "markdown",
      "source": [
        "## Print the results of each operation with appropriate labels"
      ],
      "metadata": {
        "id": "YoThQXSgjrzA"
      },
      "id": "YoThQXSgjrzA"
    },
    {
      "cell_type": "code",
      "source": [
        "print(\"1st Tensor:\")\n",
        "print(first_tensor)\n",
        "print(\"Shape:\", first_tensor.shape)\n",
        "print(\"======================================================================================\")\n",
        "print(\"2nd Tensor:\")\n",
        "print(second_tensor)\n",
        "print(\"Shape:\", second_tensor.shape)\n",
        "print(\"======================================================================================\")\n",
        "print(\"Element-wise Addition:\")\n",
        "print(element_wise_addition)\n",
        "print(\"Shape:\", element_wise_addition.shape)\n",
        "print(\"======================================================================================\")\n",
        "print(\"Element-wise Multiplication:\")\n",
        "print(element_wise_multiplication)\n",
        "print(\"Shape:\", element_wise_multiplication.shape)\n",
        "print(\"======================================================================================\")\n",
        "print(\"Shape:\", first_tensor.shape) # Checking if we need to Transpose for Matrix Multiplication.\n",
        "print(\"Shape:\", second_tensor.shape) # Checking if we need to Transpose for Matrix Multiplication.\n",
        "print(\"--------------------------------------------------------------------------------------\")\n",
        "matrix_multiplication = torch.matmul(first_tensor, second_tensor.T) # Returns the matrix product of two tensors. We also needed to transpose one of the tensors.\n",
        "print(\"Transposed Shape: \", second_tensor.T.shape)\n",
        "print(\"--------------------------------------------------------------------------------------\")\n",
        "print(\"Matrix Multiplication:\")\n",
        "print(matrix_multiplication)\n",
        "print(\"Shape:\", matrix_multiplication.shape)\n",
        "print(\"======================================================================================\")\n",
        "print(\"Mean:\", mean)\n",
        "print(\"Standard Deviation:\", std)"
      ],
      "metadata": {
        "colab": {
          "base_uri": "https://localhost:8080/"
        },
        "id": "0lKRT7CpjtWi",
        "outputId": "412d68dd-006e-46a0-f9cf-63159f45053f"
      },
      "id": "0lKRT7CpjtWi",
      "execution_count": 14,
      "outputs": [
        {
          "output_type": "stream",
          "name": "stdout",
          "text": [
            "1st Tensor:\n",
            "tensor([[ 8, 10, 10],\n",
            "        [ 7,  3,  1]])\n",
            "Shape: torch.Size([2, 3])\n",
            "======================================================================================\n",
            "2nd Tensor:\n",
            "tensor([[4, 4, 9],\n",
            "        [1, 7, 3]])\n",
            "Shape: torch.Size([2, 3])\n",
            "======================================================================================\n",
            "Element-wise Addition:\n",
            "tensor([[12, 14, 19],\n",
            "        [ 8, 10,  4]])\n",
            "Shape: torch.Size([2, 3])\n",
            "======================================================================================\n",
            "Element-wise Multiplication:\n",
            "tensor([[32, 40, 90],\n",
            "        [ 7, 21,  3]])\n",
            "Shape: torch.Size([2, 3])\n",
            "======================================================================================\n",
            "Shape: torch.Size([2, 3])\n",
            "Shape: torch.Size([2, 3])\n",
            "--------------------------------------------------------------------------------------\n",
            "Transposed Shape:  torch.Size([3, 2])\n",
            "--------------------------------------------------------------------------------------\n",
            "Matrix Multiplication:\n",
            "tensor([[162, 108],\n",
            "        [ 49,  31]])\n",
            "Shape: torch.Size([2, 2])\n",
            "======================================================================================\n",
            "Mean: tensor(87.5000)\n",
            "Standard Deviation: tensor(59.5679)\n"
          ]
        }
      ]
    },
    {
      "cell_type": "markdown",
      "id": "eff77d23",
      "metadata": {
        "id": "eff77d23"
      },
      "source": [
        "\n",
        "### Question 3: Tensor Slicing and Indexing (20 points)\n",
        "1. Create a 5x5 tensor with random values between 0 and 1.\n",
        "2. Extract the following using tensor slicing:\n",
        "   - The entire second row.\n",
        "   - The entire third column.\n",
        "   - A 3x3 sub-tensor from the top-left corner of the original tensor.\n",
        "3. Set all elements in the last row to 1.\n",
        "4. Print the modified tensor and the extracted slices.\n",
        "\n",
        "**Note:** Ensure the original tensor is modified as required.\n"
      ]
    },
    {
      "cell_type": "markdown",
      "source": [
        "## Create a 5x5 tensor with random values between 0 and 1."
      ],
      "metadata": {
        "id": "slQ7-GWRk8rk"
      },
      "id": "slQ7-GWRk8rk"
    },
    {
      "cell_type": "code",
      "execution_count": 15,
      "id": "55d077b3",
      "metadata": {
        "id": "55d077b3"
      },
      "outputs": [],
      "source": [
        "fivexfive_tensor = torch.rand(5, 5) # Returns a tensor filled with random numbers from a uniform distribution on the interval [0,1)\n",
        "original_tensor = fivexfive_tensor.clone() # Copies the tensor."
      ]
    },
    {
      "cell_type": "code",
      "source": [
        "print(\"5x5 Tensor:\")\n",
        "print(fivexfive_tensor)\n",
        "print(\"Shape:\", fivexfive_tensor.shape)"
      ],
      "metadata": {
        "colab": {
          "base_uri": "https://localhost:8080/"
        },
        "id": "bC77D5kVkwqS",
        "outputId": "663995a3-336f-4fac-d534-9def37833998"
      },
      "id": "bC77D5kVkwqS",
      "execution_count": 16,
      "outputs": [
        {
          "output_type": "stream",
          "name": "stdout",
          "text": [
            "5x5 Tensor:\n",
            "tensor([[0.9614, 0.8791, 0.5513, 0.9133, 0.3941],\n",
            "        [0.8368, 0.7393, 0.3220, 0.7567, 0.2863],\n",
            "        [0.3266, 0.0885, 0.1252, 0.3797, 0.4632],\n",
            "        [0.8194, 0.0634, 0.8059, 0.2232, 0.3864],\n",
            "        [0.8454, 0.9162, 0.4493, 0.2618, 0.6831]])\n",
            "Shape: torch.Size([5, 5])\n"
          ]
        }
      ]
    },
    {
      "cell_type": "markdown",
      "source": [
        "## Extract the following using tensor slicing:\n",
        "\n",
        "*   The entire second row.\n",
        "*   The entire third column.\n",
        "*   A 3x3 sub-tensor from the top-left corner of the original tensor."
      ],
      "metadata": {
        "id": "Dm6i6PqMk-iW"
      },
      "id": "Dm6i6PqMk-iW"
    },
    {
      "cell_type": "code",
      "source": [
        "# The entire second row\n",
        "second_row = fivexfive_tensor[1, :] # Returns the second row of the tensor.\n",
        "print(\"2nd Row:\")\n",
        "print(second_row)\n",
        "print(\"Shape:\", second_row.shape)"
      ],
      "metadata": {
        "colab": {
          "base_uri": "https://localhost:8080/"
        },
        "id": "KhSsJF2Ik5b3",
        "outputId": "3c199506-8e76-43c9-9218-6d0de1c4356f"
      },
      "id": "KhSsJF2Ik5b3",
      "execution_count": 17,
      "outputs": [
        {
          "output_type": "stream",
          "name": "stdout",
          "text": [
            "2nd Row:\n",
            "tensor([0.8368, 0.7393, 0.3220, 0.7567, 0.2863])\n",
            "Shape: torch.Size([5])\n"
          ]
        }
      ]
    },
    {
      "cell_type": "code",
      "source": [
        "# The entire third column\n",
        "third_column = fivexfive_tensor[:, 2] # Returns the third column of the tensor.\n",
        "print(\"3rd Column:\")\n",
        "print(third_column)\n",
        "print(\"Shape:\", third_column.shape)"
      ],
      "metadata": {
        "colab": {
          "base_uri": "https://localhost:8080/"
        },
        "id": "GZ3s7qKfld5D",
        "outputId": "4b6d1517-44b3-4c3d-a93f-45436e750841"
      },
      "id": "GZ3s7qKfld5D",
      "execution_count": 18,
      "outputs": [
        {
          "output_type": "stream",
          "name": "stdout",
          "text": [
            "3rd Column:\n",
            "tensor([0.5513, 0.3220, 0.1252, 0.8059, 0.4493])\n",
            "Shape: torch.Size([5])\n"
          ]
        }
      ]
    },
    {
      "cell_type": "code",
      "source": [
        "# A 3x3 sub-tensor from the top-left corner of the original tensor\n",
        "sub_tensor = fivexfive_tensor[:3, :3] # Returns a slice of the tensor targeting the top left of the matrix.\n",
        "print(\"Sub-Tensor:\")\n",
        "print(sub_tensor)\n",
        "print(\"Shape:\", sub_tensor.shape)"
      ],
      "metadata": {
        "colab": {
          "base_uri": "https://localhost:8080/"
        },
        "id": "EPFhvZIXluoA",
        "outputId": "818febd1-e52b-4ed7-9cc2-74f5ae8d7e9d"
      },
      "id": "EPFhvZIXluoA",
      "execution_count": 19,
      "outputs": [
        {
          "output_type": "stream",
          "name": "stdout",
          "text": [
            "Sub-Tensor:\n",
            "tensor([[0.9614, 0.8791, 0.5513],\n",
            "        [0.8368, 0.7393, 0.3220],\n",
            "        [0.3266, 0.0885, 0.1252]])\n",
            "Shape: torch.Size([3, 3])\n"
          ]
        }
      ]
    },
    {
      "cell_type": "markdown",
      "source": [
        "## Set all elements in the last row to 1"
      ],
      "metadata": {
        "id": "XAPUzhxjl-El"
      },
      "id": "XAPUzhxjl-El"
    },
    {
      "cell_type": "code",
      "source": [
        "# Set all elements in the last row to 1\n",
        "fivexfive_tensor[-1, :] = 1 # Sets the last row of the tensor to 1.\n",
        "print(\"Modified Tensor:\")\n",
        "print(fivexfive_tensor)\n",
        "print(\"Shape:\", fivexfive_tensor.shape)"
      ],
      "metadata": {
        "colab": {
          "base_uri": "https://localhost:8080/"
        },
        "id": "nowQz1N7l7oK",
        "outputId": "65ead3d8-1112-4d51-90f6-1d00ed296f47"
      },
      "id": "nowQz1N7l7oK",
      "execution_count": 20,
      "outputs": [
        {
          "output_type": "stream",
          "name": "stdout",
          "text": [
            "Modified Tensor:\n",
            "tensor([[0.9614, 0.8791, 0.5513, 0.9133, 0.3941],\n",
            "        [0.8368, 0.7393, 0.3220, 0.7567, 0.2863],\n",
            "        [0.3266, 0.0885, 0.1252, 0.3797, 0.4632],\n",
            "        [0.8194, 0.0634, 0.8059, 0.2232, 0.3864],\n",
            "        [1.0000, 1.0000, 1.0000, 1.0000, 1.0000]])\n",
            "Shape: torch.Size([5, 5])\n"
          ]
        }
      ]
    },
    {
      "cell_type": "markdown",
      "source": [
        "## Print the modified tensor and the extracted slices"
      ],
      "metadata": {
        "id": "7QiCtuFpm1XR"
      },
      "id": "7QiCtuFpm1XR"
    },
    {
      "cell_type": "code",
      "source": [
        "print(\"5x5 Tensor:\")\n",
        "print(original_tensor)\n",
        "print(\"Shape:\", fivexfive_tensor.shape)\n",
        "print(\"======================================================================================\")\n",
        "print(\"2nd Row:\")\n",
        "print(second_row)\n",
        "print(\"Shape:\", second_row.shape)\n",
        "print(\"======================================================================================\")\n",
        "print(\"3rd Column:\")\n",
        "print(third_column)\n",
        "print(\"Shape:\", third_column.shape)\n",
        "print(\"======================================================================================\")\n",
        "print(\"Sub-Tensor:\")\n",
        "print(sub_tensor)\n",
        "print(\"Shape:\", sub_tensor.shape)\n",
        "print(\"======================================================================================\")\n",
        "print(\"Modified Tensor:\")\n",
        "print(fivexfive_tensor)\n",
        "print(\"Shape:\", fivexfive_tensor.shape)"
      ],
      "metadata": {
        "colab": {
          "base_uri": "https://localhost:8080/"
        },
        "id": "sLGoAmmym3WC",
        "outputId": "60ab6b0d-d239-45ad-b5a3-29c20f90cb03"
      },
      "id": "sLGoAmmym3WC",
      "execution_count": 21,
      "outputs": [
        {
          "output_type": "stream",
          "name": "stdout",
          "text": [
            "5x5 Tensor:\n",
            "tensor([[0.9614, 0.8791, 0.5513, 0.9133, 0.3941],\n",
            "        [0.8368, 0.7393, 0.3220, 0.7567, 0.2863],\n",
            "        [0.3266, 0.0885, 0.1252, 0.3797, 0.4632],\n",
            "        [0.8194, 0.0634, 0.8059, 0.2232, 0.3864],\n",
            "        [0.8454, 0.9162, 0.4493, 0.2618, 0.6831]])\n",
            "Shape: torch.Size([5, 5])\n",
            "======================================================================================\n",
            "2nd Row:\n",
            "tensor([0.8368, 0.7393, 0.3220, 0.7567, 0.2863])\n",
            "Shape: torch.Size([5])\n",
            "======================================================================================\n",
            "3rd Column:\n",
            "tensor([0.5513, 0.3220, 0.1252, 0.8059, 1.0000])\n",
            "Shape: torch.Size([5])\n",
            "======================================================================================\n",
            "Sub-Tensor:\n",
            "tensor([[0.9614, 0.8791, 0.5513],\n",
            "        [0.8368, 0.7393, 0.3220],\n",
            "        [0.3266, 0.0885, 0.1252]])\n",
            "Shape: torch.Size([3, 3])\n",
            "======================================================================================\n",
            "Modified Tensor:\n",
            "tensor([[0.9614, 0.8791, 0.5513, 0.9133, 0.3941],\n",
            "        [0.8368, 0.7393, 0.3220, 0.7567, 0.2863],\n",
            "        [0.3266, 0.0885, 0.1252, 0.3797, 0.4632],\n",
            "        [0.8194, 0.0634, 0.8059, 0.2232, 0.3864],\n",
            "        [1.0000, 1.0000, 1.0000, 1.0000, 1.0000]])\n",
            "Shape: torch.Size([5, 5])\n"
          ]
        }
      ]
    },
    {
      "cell_type": "markdown",
      "id": "ac76d0d6",
      "metadata": {
        "id": "ac76d0d6"
      },
      "source": [
        "\n",
        "### Question 4: Tensor Reshaping and Broadcasting (25 points)\n",
        "1. Create a tensor of shape (2, 3, 4) with random values.\n",
        "2. Reshape this tensor into shape (4, 6) and print the result.\n",
        "3. Create a 1-dimensional tensor of size 6.\n",
        "4. Use broadcasting to add this tensor to each row of the reshaped tensor.\n",
        "5. Print the resulting tensor.\n",
        "\n",
        "**Hint:** Ensure the dimensions are compatible for broadcasting.\n"
      ]
    },
    {
      "cell_type": "markdown",
      "source": [
        "## Create a tensor of shape (2, 3, 4) with random values."
      ],
      "metadata": {
        "id": "wQNFKmfN1yFk"
      },
      "id": "wQNFKmfN1yFk"
    },
    {
      "cell_type": "code",
      "execution_count": 22,
      "id": "96f8fd1a",
      "metadata": {
        "id": "96f8fd1a",
        "colab": {
          "base_uri": "https://localhost:8080/"
        },
        "outputId": "0e4092f0-f927-4baf-e813-f377a4f090e7"
      },
      "outputs": [
        {
          "output_type": "stream",
          "name": "stdout",
          "text": [
            "(2, 3, 4) Tensor:\n",
            "tensor([[[0.3051, 0.7055, 0.3844, 0.9776],\n",
            "         [0.2469, 0.6749, 0.3267, 0.8816],\n",
            "         [0.8179, 0.2889, 0.6895, 0.1538]],\n",
            "\n",
            "        [[0.7160, 0.2582, 0.8285, 0.2327],\n",
            "         [0.4626, 0.5618, 0.7954, 0.9484],\n",
            "         [0.2242, 0.9805, 0.0565, 0.2383]]])\n",
            "Shape: torch.Size([2, 3, 4])\n"
          ]
        }
      ],
      "source": [
        "tensor234 = torch.rand(2, 3, 4) # Returns a tensor filled with random values with a shape of 2 matricies, 3 rows, and 4 columns\n",
        "print(\"(2, 3, 4) Tensor:\")\n",
        "print(tensor234)\n",
        "print(\"Shape:\", tensor234.shape)"
      ]
    },
    {
      "cell_type": "markdown",
      "source": [
        "## Reshape this tensor into shape (4, 6) and print the result."
      ],
      "metadata": {
        "id": "-0FJb8TH10GG"
      },
      "id": "-0FJb8TH10GG"
    },
    {
      "cell_type": "code",
      "source": [
        "tensor46 = tensor234.reshape(4, 6) # Returns a tensor with the same data and number of elements as the first tensor but reshaped to a 4 row 6 column single matrix.\n",
        "print(\"(4, 6) Tensor:\")\n",
        "print(tensor46)\n",
        "print(\"Shape:\", tensor46.shape)"
      ],
      "metadata": {
        "colab": {
          "base_uri": "https://localhost:8080/"
        },
        "id": "6zHPYKTk13jE",
        "outputId": "2987be1c-ebe8-4806-c67e-e7937120585b"
      },
      "id": "6zHPYKTk13jE",
      "execution_count": 23,
      "outputs": [
        {
          "output_type": "stream",
          "name": "stdout",
          "text": [
            "(4, 6) Tensor:\n",
            "tensor([[0.3051, 0.7055, 0.3844, 0.9776, 0.2469, 0.6749],\n",
            "        [0.3267, 0.8816, 0.8179, 0.2889, 0.6895, 0.1538],\n",
            "        [0.7160, 0.2582, 0.8285, 0.2327, 0.4626, 0.5618],\n",
            "        [0.7954, 0.9484, 0.2242, 0.9805, 0.0565, 0.2383]])\n",
            "Shape: torch.Size([4, 6])\n"
          ]
        }
      ]
    },
    {
      "cell_type": "markdown",
      "source": [
        "## Create a 1-dimensional tensor of size 6."
      ],
      "metadata": {
        "id": "zouTPtnG2O-t"
      },
      "id": "zouTPtnG2O-t"
    },
    {
      "cell_type": "code",
      "source": [
        "oned_tensor = torch.rand(6) # Returns a one-dimensional tensor with size 6.\n",
        "print(\"1D Tensor:\")\n",
        "print(oned_tensor)\n",
        "print(\"Shape:\", oned_tensor.shape)"
      ],
      "metadata": {
        "colab": {
          "base_uri": "https://localhost:8080/"
        },
        "id": "j7euE8dP2QHD",
        "outputId": "69d23e52-5046-41ec-a52f-8061d281f9fc"
      },
      "id": "j7euE8dP2QHD",
      "execution_count": 24,
      "outputs": [
        {
          "output_type": "stream",
          "name": "stdout",
          "text": [
            "1D Tensor:\n",
            "tensor([0.6351, 0.3673, 0.8606, 0.8360, 0.8207, 0.3129])\n",
            "Shape: torch.Size([6])\n"
          ]
        }
      ]
    },
    {
      "cell_type": "markdown",
      "source": [
        "## Use broadcasting to add this tensor to each row of the reshaped tensor."
      ],
      "metadata": {
        "id": "aU_0-KPA2d1t"
      },
      "id": "aU_0-KPA2d1t"
    },
    {
      "cell_type": "markdown",
      "source": [
        "Two tensors are “broadcastable” if the following rules hold:\n",
        "\n",
        "*   Each tensor has at least one dimension.\n",
        "*   When iterating over the dimension sizes, starting at the trailing dimension, the dimension sizes must either be equal, one of them is 1, or one of them does not exist."
      ],
      "metadata": {
        "id": "Axzde1WK213z"
      },
      "id": "Axzde1WK213z"
    },
    {
      "cell_type": "code",
      "source": [
        "# checking if compatible with broadcasting\n",
        "print(\"Shape:\", tensor46.shape)\n",
        "print(\"Shape:\", oned_tensor.shape)\n",
        "broadcasted_tensor = tensor46 + oned_tensor # Adds the two tensors element wise."
      ],
      "metadata": {
        "colab": {
          "base_uri": "https://localhost:8080/"
        },
        "id": "jV8TRSLY2fYT",
        "outputId": "170e2b9a-7939-4122-b9c3-a3a1577b3af0"
      },
      "id": "jV8TRSLY2fYT",
      "execution_count": 25,
      "outputs": [
        {
          "output_type": "stream",
          "name": "stdout",
          "text": [
            "Shape: torch.Size([4, 6])\n",
            "Shape: torch.Size([6])\n"
          ]
        }
      ]
    },
    {
      "cell_type": "markdown",
      "source": [
        "## Print the resulting tensor."
      ],
      "metadata": {
        "id": "p6WkhICv3clQ"
      },
      "id": "p6WkhICv3clQ"
    },
    {
      "cell_type": "code",
      "source": [
        "print(\"Broadcasted Tensor:\")\n",
        "print(broadcasted_tensor)\n",
        "print(\"Shape:\", broadcasted_tensor.shape)"
      ],
      "metadata": {
        "colab": {
          "base_uri": "https://localhost:8080/"
        },
        "id": "dyqowM4y3fOK",
        "outputId": "89931581-97fb-4f22-ac7a-78475acb49eb"
      },
      "id": "dyqowM4y3fOK",
      "execution_count": 26,
      "outputs": [
        {
          "output_type": "stream",
          "name": "stdout",
          "text": [
            "Broadcasted Tensor:\n",
            "tensor([[0.9402, 1.0728, 1.2449, 1.8136, 1.0677, 0.9877],\n",
            "        [0.9618, 1.2489, 1.6784, 1.1249, 1.5102, 0.4666],\n",
            "        [1.3511, 0.6255, 1.6891, 1.0688, 1.2833, 0.8746],\n",
            "        [1.4305, 1.3157, 1.0847, 1.8166, 0.8772, 0.5512]])\n",
            "Shape: torch.Size([4, 6])\n"
          ]
        }
      ]
    },
    {
      "cell_type": "markdown",
      "id": "4c8178a7",
      "metadata": {
        "id": "4c8178a7"
      },
      "source": [
        "\n",
        "### Question 5: Autograd and Gradients (25 points)\n",
        "1. Create a 2x2 tensor with random values and set `requires_grad=True` to track computations.\n",
        "2. Perform the following operations on this tensor:\n",
        "   - Multiply the tensor by 3.\n",
        "   - Calculate the mean of the resulting tensor.\n",
        "3. Compute the gradient of the mean with respect to the original tensor.\n",
        "4. Print the resulting gradients.\n",
        "\n",
        "**Hint:** Use `backward()` to compute the gradients.\n"
      ]
    },
    {
      "cell_type": "markdown",
      "source": [
        "## Create a 2x2 tensor with random values and set requires_grad=True to track computations."
      ],
      "metadata": {
        "id": "ixMtTz7-31E8"
      },
      "id": "ixMtTz7-31E8"
    },
    {
      "cell_type": "code",
      "execution_count": 27,
      "id": "3107f93f",
      "metadata": {
        "id": "3107f93f"
      },
      "outputs": [],
      "source": [
        "twoxtwo_tensor = torch.rand(2, 2, requires_grad=True) # Returns a tensor filled with random numbers from a uniform distribution on the interval [0,1) with requires grad set to true. To allow us to compute the gradients."
      ]
    },
    {
      "cell_type": "markdown",
      "source": [
        "Perform the following operations on this tensor:\n",
        "* Multiply the tensor by 3.\n",
        "* Calculate the mean of the resulting tensor.\n"
      ],
      "metadata": {
        "id": "BP2Se8qE32Ha"
      },
      "id": "BP2Se8qE32Ha"
    },
    {
      "cell_type": "code",
      "source": [
        "# Multiply the tensor by 3\n",
        "multiplied_tensor = twoxtwo_tensor * 3\n",
        "print(\"Multiplied Tensor:\")\n",
        "print(multiplied_tensor)\n",
        "print(\"Shape:\", multiplied_tensor.shape)"
      ],
      "metadata": {
        "colab": {
          "base_uri": "https://localhost:8080/"
        },
        "id": "Z3LxEo6T39PL",
        "outputId": "ffcd10bc-adb1-4d6a-af24-3ef4bb149225"
      },
      "id": "Z3LxEo6T39PL",
      "execution_count": 28,
      "outputs": [
        {
          "output_type": "stream",
          "name": "stdout",
          "text": [
            "Multiplied Tensor:\n",
            "tensor([[1.3734, 1.2821],\n",
            "        [2.6419, 1.5073]], grad_fn=<MulBackward0>)\n",
            "Shape: torch.Size([2, 2])\n"
          ]
        }
      ]
    },
    {
      "cell_type": "code",
      "source": [
        "# Calculate the mean of the resulting tensor\n",
        "mean = multiplied_tensor.float().mean()\n",
        "print(\"Mean: \", mean)"
      ],
      "metadata": {
        "colab": {
          "base_uri": "https://localhost:8080/"
        },
        "id": "u4S-gRvn4CZD",
        "outputId": "d2c08794-15bf-4193-c345-6ffa191572c3"
      },
      "id": "u4S-gRvn4CZD",
      "execution_count": 29,
      "outputs": [
        {
          "output_type": "stream",
          "name": "stdout",
          "text": [
            "Mean:  tensor(1.7012, grad_fn=<MeanBackward0>)\n"
          ]
        }
      ]
    },
    {
      "cell_type": "markdown",
      "source": [
        "## Compute the gradient of the mean with respect to the original tensor."
      ],
      "metadata": {
        "id": "pBjaILQU4aoM"
      },
      "id": "pBjaILQU4aoM"
    },
    {
      "cell_type": "code",
      "source": [
        "mean.backward() # Computes the gradient of the tensor."
      ],
      "metadata": {
        "id": "yTuzyqB94b5V"
      },
      "id": "yTuzyqB94b5V",
      "execution_count": 30,
      "outputs": []
    },
    {
      "cell_type": "markdown",
      "source": [
        "## Print the resulting gradients."
      ],
      "metadata": {
        "id": "DIkSCqnJ4-TA"
      },
      "id": "DIkSCqnJ4-TA"
    },
    {
      "cell_type": "code",
      "source": [
        "gradients = twoxtwo_tensor.grad # Returns the gradient of the tensor.\n",
        "print(\"Gradients:\")\n",
        "print(gradients)\n",
        "print(\"Shape:\", gradients.shape)"
      ],
      "metadata": {
        "colab": {
          "base_uri": "https://localhost:8080/"
        },
        "id": "fv9KL17h4_px",
        "outputId": "568468b9-4f04-494a-dd02-f2c689312518"
      },
      "id": "fv9KL17h4_px",
      "execution_count": 31,
      "outputs": [
        {
          "output_type": "stream",
          "name": "stdout",
          "text": [
            "Gradients:\n",
            "tensor([[0.7500, 0.7500],\n",
            "        [0.7500, 0.7500]])\n",
            "Shape: torch.Size([2, 2])\n"
          ]
        }
      ]
    },
    {
      "cell_type": "markdown",
      "id": "5af5ac05",
      "metadata": {
        "id": "5af5ac05"
      },
      "source": [
        "\n",
        "### Submission Instructions\n",
        "- Complete all the tasks in this notebook.\n",
        "- Ensure all outputs are correctly displayed before submission.\n",
        "- Save your notebook and submit it through the course's learning management system by the due date.\n",
        "- Late submissions may incur penalties as per the course policy.\n",
        "\n",
        "### Grading Criteria:\n",
        "- Correctness of tensor operations (60%)\n",
        "- Code readability and comments (20%)\n",
        "- Completeness of all tasks (20%)\n"
      ]
    }
  ],
  "metadata": {
    "colab": {
      "provenance": []
    },
    "language_info": {
      "name": "python"
    },
    "kernelspec": {
      "name": "python3",
      "display_name": "Python 3"
    }
  },
  "nbformat": 4,
  "nbformat_minor": 5
}