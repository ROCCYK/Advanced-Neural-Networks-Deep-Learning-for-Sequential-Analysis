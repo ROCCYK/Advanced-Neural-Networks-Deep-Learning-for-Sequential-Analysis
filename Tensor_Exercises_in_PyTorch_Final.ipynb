{
 "cells": [
  {
   "cell_type": "markdown",
   "id": "cb7f8220",
   "metadata": {},
   "source": [
    "### Exercise: Tensor Creation\n",
    "Create the following tensors using PyTorch:\n",
    "1. A 2x3 tensor filled with ones.\n",
    "2. A 3x3 tensor with random values.\n",
    "3. A tensor from a Python list `[10, 20, 30]`.\n",
    "4. A 2x2 identity matrix.\n",
    "\n",
    "Fill in the code in the cells below to complete these tasks."
   ]
  },
  {
   "cell_type": "code",
   "execution_count": null,
   "id": "c8581e60",
   "metadata": {},
   "outputs": [],
   "source": []
  },
  {
   "cell_type": "markdown",
   "id": "8bcc1832",
   "metadata": {},
   "source": [
    "### Exercise: Tensor Operations\n",
    "Perform the following operations on tensors:\n",
    "1. Create two tensors, `a` and `b` of size 3x3, with random values.\n",
    "2. Add the tensors together.\n",
    "3. Multiply the tensors element-wise.\n",
    "4. Find the mean and sum of the resulting tensor.\n",
    "\n",
    "Use the cells below to write the code for these operations."
   ]
  },
  {
   "cell_type": "code",
   "execution_count": null,
   "id": "1f8d77fd",
   "metadata": {},
   "outputs": [],
   "source": []
  },
  {
   "cell_type": "markdown",
   "id": "bb34ffd5",
   "metadata": {},
   "source": [
    "### Exercise: Tensor Slicing and Indexing\n",
    "1. Create a 4x4 tensor with values ranging from 1 to 16.\n",
    "2. Extract the second row of the tensor.\n",
    "3. Extract a 2x2 sub-tensor from the top-left corner of the original tensor.\n",
    "4. Replace the elements in the last row with zeros.\n",
    "\n",
    "Write the code in the cells provided below."
   ]
  },
  {
   "cell_type": "code",
   "execution_count": null,
   "id": "852176ce",
   "metadata": {},
   "outputs": [],
   "source": []
  },
  {
   "cell_type": "markdown",
   "id": "7c3b774b",
   "metadata": {},
   "source": [
    "### Exercise: Tensor Reshaping and Broadcasting\n",
    "1. Create a 1D tensor of size 12.\n",
    "2. Reshape this tensor into a 3x4 tensor.\n",
    "3. Create a 1D tensor of size 4.\n",
    "4. Use broadcasting to add this 1D tensor to each row of the 3x4 tensor created above.\n",
    "\n",
    "Fill in the cells below to complete this exercise."
   ]
  },
  {
   "cell_type": "code",
   "execution_count": null,
   "id": "ee9d8c72",
   "metadata": {},
   "outputs": [],
   "source": []
  }
 ],
 "metadata": {},
 "nbformat": 4,
 "nbformat_minor": 5
}
