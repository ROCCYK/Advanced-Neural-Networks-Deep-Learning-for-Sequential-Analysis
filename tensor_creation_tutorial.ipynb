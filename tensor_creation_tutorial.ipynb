{
 "cells": [
  {
   "cell_type": "code",
   "execution_count": 1,
   "id": "4db83c65",
   "metadata": {},
   "outputs": [],
   "source": [
    "# Import PyTorch\n",
    "import torch"
   ]
  },
  {
   "cell_type": "code",
   "execution_count": 2,
   "id": "5c9d705e",
   "metadata": {},
   "outputs": [],
   "source": [
    "# Creating Tensors\n",
    "# Tensors can be scalar, vector, matrix, or multidimensional array.\n",
    "# We use `torch.tensor` to create tensors."
   ]
  },
  {
   "cell_type": "code",
   "execution_count": 3,
   "id": "dc2b6127",
   "metadata": {},
   "outputs": [
    {
     "name": "stdout",
     "output_type": "stream",
     "text": [
      "tensor(34)\n"
     ]
    }
   ],
   "source": [
    "# Create a scalar tensor\n",
    "scalar_tensor = torch.tensor(34)\n",
    "print(scalar_tensor)"
   ]
  },
  {
   "cell_type": "code",
   "execution_count": 4,
   "id": "a218527a",
   "metadata": {},
   "outputs": [
    {
     "name": "stdout",
     "output_type": "stream",
     "text": [
      "tensor([1, 2, 3, 4, 5])\n"
     ]
    }
   ],
   "source": [
    "# Create a tensor from a list\n",
    "L1 = [1, 2, 3, 4, 5]\n",
    "tensor1 = torch.tensor(L1)\n",
    "print(tensor1)\n"
   ]
  },
  {
   "cell_type": "code",
   "execution_count": 5,
   "id": "042d2a64-5a56-4d90-991a-591d02b1432d",
   "metadata": {},
   "outputs": [
    {
     "name": "stdout",
     "output_type": "stream",
     "text": [
      "1\n",
      "2\n",
      "3\n",
      "4\n",
      "5\n"
     ]
    }
   ],
   "source": [
    "# To print values of this tensor, you will need to iterate\n",
    "for i in tensor1:\n",
    "    print(i.item())"
   ]
  },
  {
   "cell_type": "code",
   "execution_count": 6,
   "id": "9a366385-82ef-488b-abc4-20973e4a20b0",
   "metadata": {},
   "outputs": [
    {
     "name": "stdout",
     "output_type": "stream",
     "text": [
      "torch.int64\n"
     ]
    }
   ],
   "source": [
    "# Check the datatype\n",
    "print(tensor1.dtype)"
   ]
  },
  {
   "cell_type": "code",
   "execution_count": 7,
   "id": "041f6a95",
   "metadata": {},
   "outputs": [
    {
     "name": "stdout",
     "output_type": "stream",
     "text": [
      "Elements in tensor_from_list:\n",
      "1\n",
      "2\n",
      "3\n",
      "4\n",
      "5\n"
     ]
    }
   ],
   "source": [
    "# Print each element of tensor_from_list\n",
    "print(\"Elements in tensor_from_list:\")\n",
    "for value in tensor1:\n",
    "    print(value.item())"
   ]
  },
  {
   "cell_type": "code",
   "execution_count": 8,
   "id": "bae4f07d-a214-4364-907a-653b8f9ad6bf",
   "metadata": {},
   "outputs": [
    {
     "name": "stdout",
     "output_type": "stream",
     "text": [
      "torch.Size([5])\n"
     ]
    }
   ],
   "source": [
    "# Check the shape\n",
    "print(tensor1.shape)"
   ]
  },
  {
   "cell_type": "code",
   "execution_count": 9,
   "id": "3fe0699a",
   "metadata": {},
   "outputs": [
    {
     "name": "stdout",
     "output_type": "stream",
     "text": [
      "tensor([20, 30, 40], dtype=torch.int32)\n"
     ]
    }
   ],
   "source": [
    "# Create tensor from NumPy array\n",
    "import numpy as np\n",
    "numpy_array = np.array([20, 30, 40])\n",
    "tensor_numpy = torch.tensor(numpy_array)\n",
    "print(tensor_numpy)"
   ]
  },
  {
   "cell_type": "code",
   "execution_count": 10,
   "id": "199c17d3",
   "metadata": {},
   "outputs": [
    {
     "name": "stdout",
     "output_type": "stream",
     "text": [
      "plist [[1, 2, 3], [4, 5, 6]]\n",
      "matrix tensor:  tensor([[1, 2, 3],\n",
      "        [4, 5, 6]])\n"
     ]
    }
   ],
   "source": [
    "# Matrix tensor\n",
    "l1 = [1, 2, 3]\n",
    "l2 = [4, 5, 6]\n",
    "plist = [l1, l2]\n",
    "matrix_tensor = torch.tensor(plist)\n",
    "print(\"plist\", plist)\n",
    "print(\"matrix tensor: \", matrix_tensor)"
   ]
  },
  {
   "cell_type": "code",
   "execution_count": 11,
   "id": "4d993db6",
   "metadata": {},
   "outputs": [
    {
     "name": "stdout",
     "output_type": "stream",
     "text": [
      "tensor([[[ 1,  2,  3],\n",
      "         [ 4,  5,  6]],\n",
      "\n",
      "        [[ 7,  8,  9],\n",
      "         [10, 11, 12]]])\n"
     ]
    }
   ],
   "source": [
    "# 3D tensors\n",
    "l3 = [7, 8, 9]\n",
    "l4 = [10, 11, 12]\n",
    "plist2 = [l3, l4]\n",
    "three_d_tensor = torch.tensor([plist, plist2])\n",
    "print(three_d_tensor)"
   ]
  },
  {
   "cell_type": "code",
   "execution_count": 12,
   "id": "edfde261",
   "metadata": {},
   "outputs": [
    {
     "name": "stdout",
     "output_type": "stream",
     "text": [
      "Empty 1D tensor: tensor([8.5763e+14, 1.4854e-42, 0.0000e+00, 0.0000e+00, 0.0000e+00])\n"
     ]
    }
   ],
   "source": [
    "# Create an empty 1D tensor of size 5\n",
    "empty_tensor_1d = torch.empty(5)\n",
    "print(\"Empty 1D tensor:\", empty_tensor_1d)"
   ]
  },
  {
   "cell_type": "code",
   "execution_count": 13,
   "id": "31d2ebfe-6cc0-47d6-873f-52839620fda0",
   "metadata": {},
   "outputs": [
    {
     "name": "stdout",
     "output_type": "stream",
     "text": [
      "Empty 2D tensor: tensor([[0., 0., 0.],\n",
      "        [0., 0., 0.],\n",
      "        [0., 0., 0.]])\n"
     ]
    }
   ],
   "source": [
    "# Create an empty 2D tensor of size (3, 3)\n",
    "empty_tensor_2d = torch.empty(3, 3)\n",
    "print(\"Empty 2D tensor:\", empty_tensor_2d)"
   ]
  },
  {
   "cell_type": "code",
   "execution_count": 14,
   "id": "e5a54256",
   "metadata": {},
   "outputs": [
    {
     "name": "stdout",
     "output_type": "stream",
     "text": [
      "1D tensor of zeros: tensor([0., 0., 0.])\n"
     ]
    }
   ],
   "source": [
    "# Create a tensor of zeros with size 3\n",
    "zeros_tensor_1d = torch.zeros(3)\n",
    "print(\"1D tensor of zeros:\", zeros_tensor_1d)"
   ]
  },
  {
   "cell_type": "code",
   "execution_count": 15,
   "id": "d0391b9c-84a1-4785-9e35-385818b49b35",
   "metadata": {},
   "outputs": [
    {
     "name": "stdout",
     "output_type": "stream",
     "text": [
      "2D tensor of zeros: tensor([[0., 0., 0., 0.],\n",
      "        [0., 0., 0., 0.]])\n"
     ]
    }
   ],
   "source": [
    "# Create a 2D tensor of zeros with size (2, 4)\n",
    "zeros_tensor_2d = torch.zeros(2, 4)\n",
    "print(\"2D tensor of zeros:\", zeros_tensor_2d)"
   ]
  },
  {
   "cell_type": "code",
   "execution_count": 16,
   "id": "7aec1aca",
   "metadata": {},
   "outputs": [
    {
     "name": "stdout",
     "output_type": "stream",
     "text": [
      "1D tensor of ones: tensor([1., 1., 1., 1.])\n"
     ]
    }
   ],
   "source": [
    "# Create a 1D tensor of ones with size 4\n",
    "ones_tensor_1d = torch.ones(4)\n",
    "print(\"1D tensor of ones:\", ones_tensor_1d)"
   ]
  },
  {
   "cell_type": "code",
   "execution_count": 17,
   "id": "746cdacd-ec65-40f0-80f4-32bbc5e13b19",
   "metadata": {},
   "outputs": [
    {
     "name": "stdout",
     "output_type": "stream",
     "text": [
      "2D tensor of ones: tensor([[1., 1., 1.],\n",
      "        [1., 1., 1.]])\n"
     ]
    }
   ],
   "source": [
    "# Create a 2D tensor of ones with size (2, 3)\n",
    "ones_tensor_2d = torch.ones(2, 3)\n",
    "print(\"2D tensor of ones:\", ones_tensor_2d)"
   ]
  },
  {
   "cell_type": "code",
   "execution_count": 18,
   "id": "4bda2fd3",
   "metadata": {},
   "outputs": [
    {
     "name": "stdout",
     "output_type": "stream",
     "text": [
      "1D tensor filled with 7: tensor([7, 7, 7, 7, 7])\n"
     ]
    }
   ],
   "source": [
    "# Create a 1D tensor filled with the value 7\n",
    "full_tensor_1d = torch.full((5,), 7)\n",
    "print(\"1D tensor filled with 7:\", full_tensor_1d)"
   ]
  },
  {
   "cell_type": "code",
   "execution_count": 19,
   "id": "12d47ed5-251f-4ab4-8f00-28b6308fb476",
   "metadata": {},
   "outputs": [
    {
     "name": "stdout",
     "output_type": "stream",
     "text": [
      "2D tensor filled with 10: tensor([[10, 10, 10],\n",
      "        [10, 10, 10]])\n"
     ]
    }
   ],
   "source": [
    "# Create a 2D tensor of size (2, 3) filled with the value 10\n",
    "full_tensor_2d = torch.full((2, 3), 10)\n",
    "print(\"2D tensor filled with 10:\", full_tensor_2d)"
   ]
  },
  {
   "cell_type": "code",
   "execution_count": 20,
   "id": "c5958659",
   "metadata": {},
   "outputs": [
    {
     "name": "stdout",
     "output_type": "stream",
     "text": [
      "Tensor with values from 0 to 10 with step 2: tensor([0, 2, 4, 6, 8])\n"
     ]
    }
   ],
   "source": [
    "# Create a tensor with values from 0 to 10 with a step of 2\n",
    "arange_tensor_1 = torch.arange(0, 10, 2)\n",
    "print(\"Tensor with values from 0 to 10 with step 2:\", arange_tensor_1)"
   ]
  },
  {
   "cell_type": "code",
   "execution_count": 21,
   "id": "2bd12dfc-8ede-4f21-ac69-5d177345250e",
   "metadata": {},
   "outputs": [
    {
     "name": "stdout",
     "output_type": "stream",
     "text": [
      "Tensor with values from 5 to 20 with step 3: tensor([ 5,  8, 11, 14, 17])\n"
     ]
    }
   ],
   "source": [
    "# Create a tensor with values from 5 to 20 with a step of 3\n",
    "arange_tensor_2 = torch.arange(5, 20, 3)\n",
    "print(\"Tensor with values from 5 to 20 with step 3:\", arange_tensor_2)"
   ]
  },
  {
   "cell_type": "code",
   "execution_count": 22,
   "id": "a077c716",
   "metadata": {},
   "outputs": [
    {
     "name": "stdout",
     "output_type": "stream",
     "text": [
      "Tensor with 5 evenly spaced values between 0 and 1: tensor([0.0000, 0.2500, 0.5000, 0.7500, 1.0000])\n"
     ]
    }
   ],
   "source": [
    "# Create a tensor with 5 evenly spaced values between 0 and 1\n",
    "linspace_tensor_1 = torch.linspace(0, 1, 5)\n",
    "print(\"Tensor with 5 evenly spaced values between 0 and 1:\", linspace_tensor_1)"
   ]
  },
  {
   "cell_type": "code",
   "execution_count": 23,
   "id": "7551c5e8-0215-4355-8955-7d465aaec069",
   "metadata": {},
   "outputs": [
    {
     "name": "stdout",
     "output_type": "stream",
     "text": [
      "Tensor with 10 evenly spaced values between -3 and 3: tensor([-3.0000, -2.3333, -1.6667, -1.0000, -0.3333,  0.3333,  1.0000,  1.6667,\n",
      "         2.3333,  3.0000])\n"
     ]
    }
   ],
   "source": [
    "# Create a tensor with 10 evenly spaced values between -3 and 3\n",
    "linspace_tensor_2 = torch.linspace(-3, 3, 10)\n",
    "print(\"Tensor with 10 evenly spaced values between -3 and 3:\", linspace_tensor_2)"
   ]
  },
  {
   "cell_type": "code",
   "execution_count": 24,
   "id": "6b334af0",
   "metadata": {},
   "outputs": [
    {
     "name": "stdout",
     "output_type": "stream",
     "text": [
      "2x2 Identity matrix: tensor([[1., 0.],\n",
      "        [0., 1.]])\n"
     ]
    }
   ],
   "source": [
    "# Create a 2x2 identity matrix\n",
    "eye_tensor_1 = torch.eye(2)\n",
    "print(\"2x2 Identity matrix:\", eye_tensor_1)"
   ]
  },
  {
   "cell_type": "code",
   "execution_count": 25,
   "id": "7c3ddff4-bd15-4800-b16a-e28d0a310158",
   "metadata": {},
   "outputs": [
    {
     "name": "stdout",
     "output_type": "stream",
     "text": [
      "4x4 Identity matrix: tensor([[1., 0., 0., 0.],\n",
      "        [0., 1., 0., 0.],\n",
      "        [0., 0., 1., 0.],\n",
      "        [0., 0., 0., 1.]])\n"
     ]
    }
   ],
   "source": [
    "# Create a 4x4 identity matrix\n",
    "eye_tensor_2 = torch.eye(4)\n",
    "print(\"4x4 Identity matrix:\", eye_tensor_2)"
   ]
  },
  {
   "cell_type": "code",
   "execution_count": 26,
   "id": "d16f09ff-2aff-41cc-ad15-b1941b42983d",
   "metadata": {},
   "outputs": [
    {
     "name": "stdout",
     "output_type": "stream",
     "text": [
      "tensor([[0.3539, 0.7182, 0.9315],\n",
      "        [0.0213, 0.9309, 0.8041],\n",
      "        [0.7268, 0.8092, 0.1959]])\n"
     ]
    }
   ],
   "source": [
    "# Create a 3x3 random tensor with values between 0 and 1\n",
    "random_tensor_uniform = torch.rand(3, 3)\n",
    "print(random_tensor_uniform)"
   ]
  },
  {
   "cell_type": "code",
   "execution_count": 27,
   "id": "64760dcb-7161-4537-8d0f-68b933f7b7d3",
   "metadata": {},
   "outputs": [
    {
     "name": "stdout",
     "output_type": "stream",
     "text": [
      "tensor([[ 0.3710, -2.8737],\n",
      "        [-0.8449, -1.6101],\n",
      "        [ 0.1853,  0.1512],\n",
      "        [-1.2192, -1.5168]])\n"
     ]
    }
   ],
   "source": [
    "# Create a 4x2 random tensor from a normal distribution\n",
    "random_tensor_normal = torch.randn(4, 2)\n",
    "print(random_tensor_normal)"
   ]
  },
  {
   "cell_type": "code",
   "execution_count": 28,
   "id": "4deefba8-0e35-466a-8642-05118e068eef",
   "metadata": {},
   "outputs": [
    {
     "name": "stdout",
     "output_type": "stream",
     "text": [
      "tensor([[5, 0, 4],\n",
      "        [6, 4, 5]])\n"
     ]
    }
   ],
   "source": [
    "# Create a 2x3 random tensor with integers between 0 and 10\n",
    "random_tensor_integers = torch.randint(0, 10, (2, 3))\n",
    "print(random_tensor_integers)"
   ]
  },
  {
   "cell_type": "code",
   "execution_count": 29,
   "id": "5ff94ffc-b996-4c12-869a-ef03fde3a86f",
   "metadata": {},
   "outputs": [
    {
     "name": "stdout",
     "output_type": "stream",
     "text": [
      "tensor([[0.8823, 0.9150],\n",
      "        [0.3829, 0.9593]])\n"
     ]
    }
   ],
   "source": [
    "# Set seed for reproducibility\n",
    "torch.manual_seed(42)\n",
    "\n",
    "# Create a random tensor\n",
    "random_tensor_seeded = torch.rand(2, 2)\n",
    "print(random_tensor_seeded)"
   ]
  },
  {
   "cell_type": "code",
   "execution_count": 30,
   "id": "2acf33d6-0969-4219-b396-e72561787579",
   "metadata": {},
   "outputs": [
    {
     "name": "stdout",
     "output_type": "stream",
     "text": [
      "tensor([[6.9522, 8.0045, 6.2829],\n",
      "        [8.9682, 9.7039, 5.6659],\n",
      "        [9.6730, 7.9679, 9.3470]])\n"
     ]
    }
   ],
   "source": [
    "# Create a random tensor with values between 5 and 10\n",
    "random_tensor_range = 5 + (torch.rand(3, 3) * (10 - 5))\n",
    "print(random_tensor_range)"
   ]
  },
  {
   "cell_type": "markdown",
   "id": "d6329af4-32bf-45a2-bef8-bc0afe45330f",
   "metadata": {},
   "source": [
    "## Exercises"
   ]
  },
  {
   "cell_type": "markdown",
   "id": "c2879eee-3a35-412c-ab8a-ac65ffbd21e2",
   "metadata": {},
   "source": [
    "1. Create a tensor filled with zeroes of size 5x3. Print the tensor and its type."
   ]
  },
  {
   "cell_type": "code",
   "execution_count": 31,
   "id": "bc1097dd-da0c-4410-8528-6e022bc5e86a",
   "metadata": {},
   "outputs": [
    {
     "name": "stdout",
     "output_type": "stream",
     "text": [
      "tensor([[0., 0., 0.],\n",
      "        [0., 0., 0.],\n",
      "        [0., 0., 0.],\n",
      "        [0., 0., 0.],\n",
      "        [0., 0., 0.]])\n",
      "torch.float32\n"
     ]
    }
   ],
   "source": [
    "z = torch.zeros(5,3)\n",
    "print(z)\n",
    "print(z.dtype)"
   ]
  },
  {
   "cell_type": "markdown",
   "id": "95683f4a-1c67-4192-94fa-e378eba8e17d",
   "metadata": {},
   "source": [
    "2. Create a tensor of size 5x3 of datatype int16"
   ]
  },
  {
   "cell_type": "code",
   "execution_count": 33,
   "id": "ade9da02-e1f8-4731-9d13-d9f93ec27f97",
   "metadata": {},
   "outputs": [
    {
     "name": "stdout",
     "output_type": "stream",
     "text": [
      "tensor([[1, 1, 1],\n",
      "        [1, 1, 1],\n",
      "        [1, 1, 1],\n",
      "        [1, 1, 1],\n",
      "        [1, 1, 1]], dtype=torch.int16)\n"
     ]
    }
   ],
   "source": [
    "i = torch.ones((5,3), dtype = torch.int16)\n",
    "print(i)"
   ]
  },
  {
   "cell_type": "markdown",
   "id": "9c5c3c3f-363e-45d0-87f4-f391db1882b8",
   "metadata": {},
   "source": [
    "Use torch.manual_seed(seed_value) to set the random seed and then create a 2x2 tensor of random values between 0 and 1. "
   ]
  },
  {
   "cell_type": "code",
   "execution_count": 34,
   "id": "f11e7f5f-0770-41ad-bde4-6f687f2eae17",
   "metadata": {},
   "outputs": [
    {
     "data": {
      "text/plain": [
       "<torch._C.Generator at 0x158d6653750>"
      ]
     },
     "execution_count": 34,
     "metadata": {},
     "output_type": "execute_result"
    }
   ],
   "source": [
    "torch.manual_seed(1729)"
   ]
  },
  {
   "cell_type": "code",
   "execution_count": 39,
   "id": "5e90f8ef-4a6d-4da8-be75-dfdfd10bf088",
   "metadata": {},
   "outputs": [
    {
     "name": "stdout",
     "output_type": "stream",
     "text": [
      "tensor([[0.1366, 0.1025],\n",
      "        [0.1841, 0.7264]])\n"
     ]
    }
   ],
   "source": [
    "r1= torch.rand(2,2)\n",
    "print(r1)"
   ]
  },
  {
   "cell_type": "markdown",
   "id": "14a726db-c8f6-4e9a-bae0-0d53f3b904fb",
   "metadata": {},
   "source": [
    "change seed value to 123 and regenerate tensor"
   ]
  },
  {
   "cell_type": "code",
   "execution_count": 40,
   "id": "fea6425e-d381-45aa-962f-3c8e387b9561",
   "metadata": {},
   "outputs": [
    {
     "name": "stdout",
     "output_type": "stream",
     "text": [
      "tensor([[0.2961, 0.5166],\n",
      "        [0.2517, 0.6886]])\n"
     ]
    }
   ],
   "source": [
    "torch.manual_seed(123)\n",
    "r2= torch.rand(2,2)\n",
    "print(r2)"
   ]
  },
  {
   "cell_type": "markdown",
   "id": "95b841ce-0ab1-44b6-9ef2-bb2f8b87615e",
   "metadata": {},
   "source": [
    "now change the seed back to original value and see what happens"
   ]
  },
  {
   "cell_type": "code",
   "execution_count": 42,
   "id": "6564f54f-04de-4465-84be-78e40f0c06a3",
   "metadata": {
    "scrolled": true
   },
   "outputs": [
    {
     "name": "stdout",
     "output_type": "stream",
     "text": [
      "tensor([[0.3126, 0.3791],\n",
      "        [0.3087, 0.0736]])\n"
     ]
    }
   ],
   "source": [
    "torch.manual_seed(1729)\n",
    "r1= torch.rand(2,2)\n",
    "print(r1)torch.manual_seed(1729)"
   ]
  },
  {
   "cell_type": "markdown",
   "id": "cf8f9eda-7b62-4bc5-aad4-ab67b8246bd9",
   "metadata": {},
   "source": [
    "reseeding generates the same sequence. "
   ]
  },
  {
   "cell_type": "code",
   "execution_count": 43,
   "id": "6c3a0243-6c3d-40b7-b150-1d1dd5a11130",
   "metadata": {},
   "outputs": [
    {
     "name": "stdout",
     "output_type": "stream",
     "text": [
      "tensor([[0.3126, 0.3791],\n",
      "        [0.3087, 0.0736]])\n"
     ]
    }
   ],
   "source": [
    "torch.manual_seed(1729)\n",
    "r1= torch.rand(2,2)\n",
    "print(r1)"
   ]
  },
  {
   "cell_type": "code",
   "execution_count": null,
   "id": "a00b7366-aaa9-4e82-9933-c80db945f995",
   "metadata": {},
   "outputs": [],
   "source": []
  }
 ],
 "metadata": {
  "kernelspec": {
   "display_name": "Python 3 (ipykernel)",
   "language": "python",
   "name": "python3"
  },
  "language_info": {
   "codemirror_mode": {
    "name": "ipython",
    "version": 3
   },
   "file_extension": ".py",
   "mimetype": "text/x-python",
   "name": "python",
   "nbconvert_exporter": "python",
   "pygments_lexer": "ipython3",
   "version": "3.11.9"
  }
 },
 "nbformat": 4,
 "nbformat_minor": 5
}
